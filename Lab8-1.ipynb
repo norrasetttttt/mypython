{
 "cells": [
  {
   "cell_type": "code",
   "execution_count": null,
   "metadata": {},
   "outputs": [],
   "source": [
    "n = input(\"ชื่อพนักงาน : \")\n",
    "s = float(input(\"เงินเดือน : \"))\n",
    "o = float(input(\"จำนวนชั่วโมง : \"))\n",
    "r = float(100)\n",
    "\n",
    "if o <= 40:\n",
    "    p = o*rate"
   ]
  },
  {
   "cell_type": "code",
   "execution_count": 14,
   "metadata": {},
   "outputs": [
    {
     "name": "stdout",
     "output_type": "stream",
     "text": [
      "Your pay is 451\n"
     ]
    }
   ],
   "source": [
    "hrs = input(\"Enter hours \")\n",
    "h= float(hrs)\n",
    "rate = float(100)\n",
    "\n",
    "if h <= 40:\n",
    "    pay = h*rate\n",
    "elif h > 40:\n",
    "    pay = ((h-40)*rate*1.5)+rate*40   \n",
    "\n",
    "print (\"Your pay is %d\" %pay)"
   ]
  }
 ],
 "metadata": {
  "kernelspec": {
   "display_name": "Python 3",
   "language": "python",
   "name": "python3"
  },
  "language_info": {
   "codemirror_mode": {
    "name": "ipython",
    "version": 3
   },
   "file_extension": ".py",
   "mimetype": "text/x-python",
   "name": "python",
   "nbconvert_exporter": "python",
   "pygments_lexer": "ipython3",
   "version": "3.12.4"
  }
 },
 "nbformat": 4,
 "nbformat_minor": 2
}
